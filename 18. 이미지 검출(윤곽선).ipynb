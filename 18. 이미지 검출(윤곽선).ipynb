{
 "cells": [
  {
   "attachments": {},
   "cell_type": "markdown",
   "metadata": {},
   "source": [
    "# 18. 이미지 검출(윤곽선) "
   ]
  },
  {
   "attachments": {},
   "cell_type": "markdown",
   "metadata": {},
   "source": [
    "## 윤곽선 (Contour) : 경계선을 연결한 선"
   ]
  },
  {
   "cell_type": "code",
   "execution_count": 3,
   "metadata": {},
   "outputs": [],
   "source": [
    "# 윤곽선 검출하기 위해선 바이너리 이미지를 사용해야 한다 : 정확도를 높이기 위해서.\n",
    "import cv2\n",
    "img = cv2.imread('card.png')  # 원본 이미지\n",
    "target_img = img.copy()  # 사본 이미지\n",
    "\n",
    "gray = cv2.cvtColor(img, cv2.COLOR_BGR2GRAY)  # 이미지를 흑백으로 바꾸기\n",
    "ret, otsu = cv2.threshold(src=gray, thresh=-1, maxval=255, type=cv2.THRESH_BINARY | cv2.THRESH_OTSU)  # 오츠 알고리즘:최적의 임계치를 자동으로 찾아줌\n",
    "\n",
    "# 윤곽선 정보, 윤곽선 간의 계층구조\n",
    "contours, hierarchy = cv2.findContours(\n",
    "    image=otsu,  # 이미지\n",
    "    mode=cv2.RETR_LIST,  # 윤곽선 찾는 모드\n",
    "    method=cv2.CHAIN_APPROX_NONE  # 윤곽선을 찾을 때 사용하는 근사치 방법\n",
    ")\n",
    "\n",
    "# cv2.CHAIN_APPROX_NONE  : 윤곽선의 모든 좌표 반환\n",
    "# cv2.CHAIN_APPROX_SIMPLE : 윤곽선의 꼭짓점 좌표 반환\n",
    "\n",
    "# 윤곽선 그리기, 원본에 그리기 때문에 사본 이미지를 사용\n",
    "COLOR = (0, 200, 0)  # 녹색\n",
    "cv2.drawContours(\n",
    "    image=target_img,  # 대상 이미지\n",
    "    contours=contours,  # 윤곽선 정보\n",
    "    contourIdx=-1,  # 모든 윤곽선을 다 그리기\n",
    "    color=COLOR,\n",
    "    thickness=2\n",
    ")\n",
    "\n",
    "cv2.imshow('img', img)\n",
    "cv2.imshow('gray', gray)\n",
    "cv2.imshow('otsu', otsu)\n",
    "cv2.imshow('contour', target_img)\n",
    "\n",
    "cv2.waitKey(0)\n",
    "cv2.destroyAllWindows()"
   ]
  },
  {
   "attachments": {},
   "cell_type": "markdown",
   "metadata": {},
   "source": [
    "### 윤곽선 찾기 모드\n",
    "1. cv2.RETR_EXTERNAL : 가장 외곽의 윤곽선만 찾음\n",
    "2. cv2.RETR_LIST : 모든 윤곽선 찾음(계층 정보 없음)\n",
    "3. cv2.RETR_TREE : 모든 윤곽선 찾음(계층 정보를 트리 구조로 생성)"
   ]
  },
  {
   "cell_type": "code",
   "execution_count": 10,
   "metadata": {},
   "outputs": [],
   "source": [
    "import cv2\n",
    "img = cv2.imread('card.png')  # 원본 이미지\n",
    "target_img = img.copy()  # 사본 이미지\n",
    "\n",
    "gray = cv2.cvtColor(img, cv2.COLOR_BGR2GRAY)  # 이미지를 흑백으로 바꾸기\n",
    "ret, otsu = cv2.threshold(src=gray, thresh=-1, maxval=255, type=cv2.THRESH_BINARY | cv2.THRESH_OTSU)\n",
    "\n",
    "#contours, hierarchy = cv2.findContours(image=otsu, mode=cv2.RETR_LIST, method=cv2.CHAIN_APPROX_NONE)\n",
    "contours, hierarchy = cv2.findContours(image=otsu, mode=cv2.RETR_EXTERNAL, method=cv2.CHAIN_APPROX_NONE)\n",
    "#contours, hierarchy = cv2.findContours(image=otsu, mode=cv2.RETR_TREE, method=cv2.CHAIN_APPROX_NONE)\n",
    "#print(hierarchy)\n",
    "#print(f'총 윤곽선 발견 개수 : {len(contours)}')\n",
    "\n",
    "# 윤곽선 그리기, 원본에 그리기 때문에 사본 이미지를 사용\n",
    "COLOR = (0, 200, 0)  # 녹색\n",
    "cv2.drawContours(\n",
    "    image=target_img,  # 대상 이미지\n",
    "    contours=contours,  # 윤곽선 정보\n",
    "    contourIdx=-1,  # 모든 윤곽선을 다 그리기\n",
    "    color=COLOR,\n",
    "    thickness=2\n",
    ")\n",
    "\n",
    "cv2.imshow('img', img)\n",
    "cv2.imshow('gray', gray)\n",
    "cv2.imshow('otsu', otsu)\n",
    "cv2.imshow('contour', target_img)\n",
    "\n",
    "cv2.waitKey(0)\n",
    "cv2.destroyAllWindows()"
   ]
  },
  {
   "attachments": {},
   "cell_type": "markdown",
   "metadata": {},
   "source": [
    "## 경계 사각형\n",
    "윤곽선의 경계면을 둘러싸는 사각형\n",
    "> boundingRect()"
   ]
  },
  {
   "cell_type": "code",
   "execution_count": 11,
   "metadata": {},
   "outputs": [],
   "source": [
    "import cv2\n",
    "img = cv2.imread('card.png')  # 원본 이미지\n",
    "target_img = img.copy()  # 사본 이미지\n",
    "\n",
    "gray = cv2.cvtColor(img, cv2.COLOR_BGR2GRAY)  # 이미지를 흑백으로 바꾸기\n",
    "ret, otsu = cv2.threshold(src=gray, thresh=-1, maxval=255, type=cv2.THRESH_BINARY | cv2.THRESH_OTSU)\n",
    "\n",
    "contours, hierarchy = cv2.findContours(image=otsu, mode=cv2.RETR_LIST, method=cv2.CHAIN_APPROX_NONE)\n",
    "\n",
    "COLOR = (0, 200, 0)  # 녹색\n",
    "\n",
    "for cnt in contours:\n",
    "    x, y, width, height = cv2.boundingRect(cnt)\n",
    "    cv2.rectangle(img=target_img, pt1=(x,y), pt2=(x+width, y+height), color=COLOR, thickness=2, lineType=cv2.LINE_AA)  # 사각형 그림\n",
    "\n",
    "cv2.imshow('img', img)\n",
    "cv2.imshow('gray', gray)\n",
    "cv2.imshow('otsu', otsu)\n",
    "cv2.imshow('contour', target_img)\n",
    "\n",
    "cv2.waitKey(0)\n",
    "cv2.destroyAllWindows()"
   ]
  },
  {
   "attachments": {},
   "cell_type": "markdown",
   "metadata": {},
   "source": [
    "## 윤곽선 면적\n",
    "> contourArea()"
   ]
  },
  {
   "cell_type": "code",
   "execution_count": 12,
   "metadata": {},
   "outputs": [],
   "source": [
    "import cv2\n",
    "img = cv2.imread('card.png')  # 원본 이미지\n",
    "target_img = img.copy()  # 사본 이미지\n",
    "\n",
    "gray = cv2.cvtColor(img, cv2.COLOR_BGR2GRAY)  # 이미지를 흑백으로 바꾸기\n",
    "ret, otsu = cv2.threshold(src=gray, thresh=-1, maxval=255, type=cv2.THRESH_BINARY | cv2.THRESH_OTSU)\n",
    "\n",
    "contours, hierarchy = cv2.findContours(image=otsu, mode=cv2.RETR_LIST, method=cv2.CHAIN_APPROX_NONE)\n",
    "\n",
    "COLOR = (0, 200, 0)  # 녹색\n",
    "\n",
    "for cnt in contours:\n",
    "    if cv2.contourArea(contour=cnt) > 25000:\n",
    "        x, y, width, height = cv2.boundingRect(cnt)\n",
    "        cv2.rectangle(img=target_img, pt1=(x, y), pt2=(x+width, y+height), color=COLOR, thickness=2, lineType=cv2.LINE_AA)  # 사각형 그림\n",
    "\n",
    "cv2.imshow('img', img)\n",
    "cv2.imshow('contour', target_img)\n",
    "\n",
    "cv2.waitKey(0)\n",
    "cv2.destroyAllWindows()"
   ]
  },
  {
   "attachments": {},
   "cell_type": "markdown",
   "metadata": {},
   "source": [
    "## 미니 프로젝트 : 개별 카드 추출해서 파일 저장"
   ]
  },
  {
   "cell_type": "code",
   "execution_count": 1,
   "metadata": {},
   "outputs": [],
   "source": [
    "import cv2\n",
    "img = cv2.imread('card.png')  # 원본 이미지\n",
    "target_img = img.copy()  # 사본 이미지\n",
    "\n",
    "gray = cv2.cvtColor(img, cv2.COLOR_BGR2GRAY)  # 이미지를 흑백으로 바꾸기\n",
    "ret, otsu = cv2.threshold(src=gray, thresh=-1, maxval=255, type=cv2.THRESH_BINARY | cv2.THRESH_OTSU)\n",
    "\n",
    "contours, hierarchy = cv2.findContours(image=otsu, mode=cv2.RETR_LIST, method=cv2.CHAIN_APPROX_NONE)\n",
    "\n",
    "COLOR = (0, 200, 0)  # 녹색\n",
    "\n",
    "idx = 1\n",
    "for cnt in contours:\n",
    "    if cv2.contourArea(contour=cnt) > 25000:\n",
    "        x, y, width, height = cv2.boundingRect(cnt)\n",
    "        cv2.rectangle(img=target_img, pt1=(x, y), pt2=(x+width, y+height), color=COLOR, thickness=2, lineType=cv2.LINE_AA)  # 사각형 그림\n",
    "        \n",
    "        crop = img[y:y+height, x:x+width]\n",
    "        cv2.imshow(f'card_crop_{idx}', crop)\n",
    "        cv2.imwrite(f'card_crop_{idx}.png', crop)  # 파일 저장\n",
    "        idx+=1\n",
    "\n",
    "cv2.imshow('img', img)\n",
    "cv2.imshow('contour', target_img)\n",
    "\n",
    "cv2.waitKey(0)\n",
    "cv2.destroyAllWindows()"
   ]
  },
  {
   "cell_type": "code",
   "execution_count": null,
   "metadata": {},
   "outputs": [],
   "source": []
  },
  {
   "cell_type": "code",
   "execution_count": null,
   "metadata": {},
   "outputs": [],
   "source": []
  },
  {
   "cell_type": "code",
   "execution_count": null,
   "metadata": {},
   "outputs": [],
   "source": []
  },
  {
   "cell_type": "code",
   "execution_count": null,
   "metadata": {},
   "outputs": [],
   "source": []
  },
  {
   "cell_type": "code",
   "execution_count": null,
   "metadata": {},
   "outputs": [],
   "source": []
  },
  {
   "cell_type": "code",
   "execution_count": null,
   "metadata": {},
   "outputs": [],
   "source": []
  }
 ],
 "metadata": {
  "kernelspec": {
   "display_name": "base",
   "language": "python",
   "name": "python3"
  },
  "language_info": {
   "codemirror_mode": {
    "name": "ipython",
    "version": 3
   },
   "file_extension": ".py",
   "mimetype": "text/x-python",
   "name": "python",
   "nbconvert_exporter": "python",
   "pygments_lexer": "ipython3",
   "version": "3.9.13"
  },
  "orig_nbformat": 4
 },
 "nbformat": 4,
 "nbformat_minor": 2
}
