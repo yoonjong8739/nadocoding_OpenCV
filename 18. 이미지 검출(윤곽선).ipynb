{
 "cells": [
  {
   "attachments": {},
   "cell_type": "markdown",
   "metadata": {},
   "source": [
    "# 18. 이미지 검출(윤곽선) "
   ]
  },
  {
   "attachments": {},
   "cell_type": "markdown",
   "metadata": {},
   "source": [
    "## 윤곽선 (Contour) : 경계선을 연결한 선"
   ]
  },
  {
   "cell_type": "code",
   "execution_count": 3,
   "metadata": {},
   "outputs": [],
   "source": [
    "# 윤곽선 검출하기 위해선 바이너리 이미지를 사용해야 한다 : 정확도를 높이기 위해서.\n",
    "import cv2\n",
    "img = cv2.imread('card.png')  # 원본 이미지\n",
    "target_img = img.copy()  # 사본 이미지\n",
    "\n",
    "gray = cv2.cvtColor(img, cv2.COLOR_BGR2GRAY)  # 이미지를 흑백으로 바꾸기\n",
    "ret, otsu = cv2.threshold(src=gray, thresh=-1, maxval=255, type=cv2.THRESH_BINARY | cv2.THRESH_OTSU)  # 오츠 알고리즘:최적의 임계치를 자동으로 찾아줌\n",
    "\n",
    "# 윤곽선 정보, 윤곽선 간의 계층구조\n",
    "contours, hierarchy = cv2.findContours(\n",
    "    image=otsu,  # 이미지\n",
    "    mode=cv2.RETR_LIST,  # 윤곽선 찾는 모드\n",
    "    method=cv2.CHAIN_APPROX_NONE  # 윤곽선을 찾을 때 사용하는 근사치 방법\n",
    ")\n",
    "\n",
    "# 윤곽선 그리기, 원본에 그리기 때문에 사본 이미지를 사용\n",
    "COLOR = (0, 200, 0)  # 녹색\n",
    "cv2.drawContours(\n",
    "    image=target_img,  # 대상 이미지\n",
    "    contours=contours,  # 윤곽선 정보\n",
    "    contourIdx=-1,  # 모든 윤곽선을 다 그리기\n",
    "    color=COLOR,\n",
    "    thickness=2\n",
    ")\n",
    "\n",
    "cv2.imshow('img', img)\n",
    "cv2.imshow('gray', gray)\n",
    "cv2.imshow('otsu', otsu)\n",
    "cv2.imshow('contour', target_img)\n",
    "\n",
    "cv2.waitKey(0)\n",
    "cv2.destroyAllWindows()"
   ]
  },
  {
   "cell_type": "code",
   "execution_count": null,
   "metadata": {},
   "outputs": [],
   "source": []
  }
 ],
 "metadata": {
  "kernelspec": {
   "display_name": "base",
   "language": "python",
   "name": "python3"
  },
  "language_info": {
   "codemirror_mode": {
    "name": "ipython",
    "version": 3
   },
   "file_extension": ".py",
   "mimetype": "text/x-python",
   "name": "python",
   "nbconvert_exporter": "python",
   "pygments_lexer": "ipython3",
   "version": "3.9.13"
  },
  "orig_nbformat": 4
 },
 "nbformat": 4,
 "nbformat_minor": 2
}
