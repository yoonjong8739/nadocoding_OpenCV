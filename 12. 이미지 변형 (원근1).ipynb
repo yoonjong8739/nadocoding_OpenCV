{
 "cells": [
  {
   "attachments": {},
   "cell_type": "markdown",
   "metadata": {},
   "source": [
    "# 12. 이미지 변형 (원근1)"
   ]
  },
  {
   "attachments": {},
   "cell_type": "markdown",
   "metadata": {},
   "source": [
    "### 사다리꼴 이미지 펼치기"
   ]
  },
  {
   "cell_type": "code",
   "execution_count": 3,
   "metadata": {},
   "outputs": [],
   "source": [
    "import cv2\n",
    "import numpy as np\n",
    "\n",
    "img = cv2.imread('newspaper.jpg')\n",
    "\n",
    "width, height = 640, 240  # 가로 640, 세로 240 으로 결과물 출력\n",
    "\n",
    "# 시계 방향으로 4지점 정의\n",
    "src = np.array([ [511, 352], [1008, 345], [1122, 584], [455, 594] ], dtype=np.float32)  # input 4개 지정\n",
    "dst = np.array([ [0, 0], [width, 0], [width, height], [0, height] ], dtype=np.float32)  # output 4개 지정\n",
    "\n",
    "matrix = cv2.getPerspectiveTransform(src=src, dst=dst)  # Matrix 얻어옴\n",
    "result = cv2.warpPerspective(img, matrix, (width, height))  # matrix 대로 변환을 함.\n",
    "\n",
    "cv2.imshow('img', img)\n",
    "cv2.imshow('result', result)\n",
    "cv2.waitKey(0)\n",
    "cv2.destroyAllWindows()"
   ]
  },
  {
   "attachments": {},
   "cell_type": "markdown",
   "metadata": {},
   "source": [
    "### 회전된 이미지 올바르게 세우기"
   ]
  },
  {
   "cell_type": "code",
   "execution_count": 4,
   "metadata": {},
   "outputs": [],
   "source": [
    "import cv2\n",
    "import numpy as np\n",
    "\n",
    "img = cv2.imread('poker.jpg')\n",
    "\n",
    "width, height = 530, 710  # 가로 530, 세로 710 으로 결과물 출력\n",
    "\n",
    "# 시계 방향으로 4지점 정의\n",
    "src = np.array([ [702, 143], [1134, 414], [726, 1007], [276, 700] ], dtype=np.float32)  # input 4개 지정\n",
    "dst = np.array([ [0, 0], [width, 0], [width, height], [0, height] ], dtype=np.float32)  # output 4개 지정\n",
    "\n",
    "matrix = cv2.getPerspectiveTransform(src=src, dst=dst)  # Matrix 얻어옴\n",
    "result = cv2.warpPerspective(img, matrix, (width, height))  # matrix 대로 변환을 함.\n",
    "\n",
    "cv2.imshow('img', img)\n",
    "cv2.imshow('result', result)\n",
    "cv2.waitKey(0)\n",
    "cv2.destroyAllWindows()"
   ]
  },
  {
   "attachments": {},
   "cell_type": "markdown",
   "metadata": {},
   "source": [
    "## 미니 프로젝트 : 반자동 문서 스캐너"
   ]
  },
  {
   "attachments": {},
   "cell_type": "markdown",
   "metadata": {},
   "source": [
    "### 마우스 이벤트 등록"
   ]
  },
  {
   "cell_type": "code",
   "execution_count": 4,
   "metadata": {},
   "outputs": [
    {
     "name": "stdout",
     "output_type": "stream",
     "text": [
      "왼쪽 버튼 Down\n",
      "693 148\n",
      "왼쪽 버튼 UP\n",
      "693 148\n",
      "왼쪽 버튼 더블 클릭\n",
      "왼쪽 버튼 UP\n",
      "693 148\n",
      "오른쪽 버튼 Down\n",
      "왼쪽 버튼 Down\n",
      "289 696\n",
      "왼쪽 버튼 UP\n",
      "289 696\n",
      "왼쪽 버튼 더블 클릭\n",
      "왼쪽 버튼 UP\n",
      "289 696\n"
     ]
    }
   ],
   "source": [
    "import cv2\n",
    "\n",
    "def mouse_handler(event, x, y, flags, param):\n",
    "    if event == cv2.EVENT_LBUTTONDOWN:  # 마우스 왼쪽 버튼를 누른 상태\n",
    "        print(\"왼쪽 버튼 Down\")\n",
    "        print(x, y)  # 마우스가 위치한 곳의 좌표 출력\n",
    "    elif event == cv2.EVENT_LBUTTONUP:  # 마우스 왼쪽 버튼에 손가락을 뗀 상태\n",
    "        print(\"왼쪽 버튼 UP\")\n",
    "        print(x, y)\n",
    "    elif event == cv2.EVENT_LBUTTONDBLCLK:  # 마우스 왼쪽 버튼 더블 클릭\n",
    "        print(\"왼쪽 버튼 더블 클릭\")\n",
    "    #elif event == cv2.EVENT_MOUSEMOVE:  # 마우스 이동\n",
    "    #    print(\"마우스 이동\")\n",
    "    elif event == cv2.EVENT_RBUTTONDOWN:  # 오른쪽 버튼 Down\n",
    "        print(\"오른쪽 버튼 Down\")\n",
    "\n",
    "img = cv2.imread('poker.jpg')\n",
    "cv2.namedWindow('img')  # img라는 이름의 윈도우를 먼저 만들어두는 것. 여기에 마우스 이벤트를 처리하기 위한 핸들러 적용\n",
    "cv2.setMouseCallback('img', mouse_handler)\n",
    "cv2.imshow('img', img)\n",
    "cv2.waitKey(0)\n",
    "cv2.destroyAllWindows()"
   ]
  },
  {
   "attachments": {},
   "cell_type": "markdown",
   "metadata": {},
   "source": [
    "### 프로젝트"
   ]
  },
  {
   "cell_type": "code",
   "execution_count": 4,
   "metadata": {},
   "outputs": [],
   "source": [
    "import cv2\n",
    "import numpy as np\n",
    "\n",
    "point_list = []\n",
    "\n",
    "src_img = cv2.imread('poker.jpg')\n",
    "\n",
    "COLOR = (255, 0, 255)  # 핑크\n",
    "\n",
    "def mouse_handler(event, x, y, flags, param):\n",
    "    if event == cv2.EVENT_LBUTTONDOWN:  # 마우스 왼쪽 버튼를 누른 상태\n",
    "        point_list.append( (x,y) )\n",
    "    \n",
    "    for point in point_list:\n",
    "        cv2.circle(img=src_img, center=point, radius=15, color=COLOR, thickness=cv2.FILLED)\n",
    "    \n",
    "    if len(point_list) == 4:\n",
    "        show_result()  # 결과 출력\n",
    "    \n",
    "    cv2.imshow('img', src_img)\n",
    "\n",
    "def show_result():\n",
    "    width, height = 530, 710  # 가로 530, 세로 710 으로 결과물 출력\n",
    "    src = np.float32(point_list)  # input 4개 지정\n",
    "    dst = np.array([ [0, 0], [width, 0], [width, height], [0, height] ], dtype=np.float32)  # output 4개 지정\n",
    "    \n",
    "    matrix = cv2.getPerspectiveTransform(src=src, dst=dst)  # Matrix 얻어옴\n",
    "    result = cv2.warpPerspective(src_img, matrix, (width, height))\n",
    "    cv2.imshow('result', result)\n",
    "\n",
    "cv2.namedWindow('img')  # img라는 이름의 윈도우를 먼저 만들어두는 것. 여기에 마우스 이벤트를 처리하기 위한 핸들러 적용\n",
    "cv2.setMouseCallback('img', mouse_handler)\n",
    "cv2.imshow('img', src_img)\n",
    "cv2.waitKey(0)\n",
    "cv2.destroyAllWindows()"
   ]
  },
  {
   "cell_type": "code",
   "execution_count": null,
   "metadata": {},
   "outputs": [],
   "source": []
  },
  {
   "cell_type": "code",
   "execution_count": null,
   "metadata": {},
   "outputs": [],
   "source": []
  }
 ],
 "metadata": {
  "kernelspec": {
   "display_name": "base",
   "language": "python",
   "name": "python3"
  },
  "language_info": {
   "codemirror_mode": {
    "name": "ipython",
    "version": 3
   },
   "file_extension": ".py",
   "mimetype": "text/x-python",
   "name": "python",
   "nbconvert_exporter": "python",
   "pygments_lexer": "ipython3",
   "version": "3.9.13"
  },
  "orig_nbformat": 4
 },
 "nbformat": 4,
 "nbformat_minor": 2
}
