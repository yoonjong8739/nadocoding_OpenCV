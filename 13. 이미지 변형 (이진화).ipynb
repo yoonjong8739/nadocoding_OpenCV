{
 "cells": [
  {
   "attachments": {},
   "cell_type": "markdown",
   "metadata": {},
   "source": [
    "# 13. 이미지 변형 (이진화)"
   ]
  },
  {
   "attachments": {},
   "cell_type": "markdown",
   "metadata": {},
   "source": [
    "## Threshold"
   ]
  },
  {
   "cell_type": "code",
   "execution_count": 1,
   "metadata": {},
   "outputs": [],
   "source": [
    "import cv2\n",
    "img = cv2.imread('book.jpg', cv2.IMREAD_GRAYSCALE)\n",
    "\n",
    "# 127보다 크면 255(흰색)으로 바꾼다.\n",
    "ret, binary = cv2.threshold(src=img, thresh=127, maxval=255, type=cv2.THRESH_BINARY)\n",
    "\n",
    "cv2.imshow('img', img)\n",
    "cv2.imshow('binary', binary)\n",
    "cv2.waitKey(0)\n",
    "cv2.destroyAllWindows()"
   ]
  },
  {
   "attachments": {},
   "cell_type": "markdown",
   "metadata": {},
   "source": [
    "## Trackbar (값 변화에 따른 변형 확인)"
   ]
  },
  {
   "cell_type": "code",
   "execution_count": 2,
   "metadata": {},
   "outputs": [],
   "source": [
    "import cv2\n",
    "\n",
    "def empty(pos):\n",
    "    #print(pos)\n",
    "    pass\n",
    "\n",
    "img = cv2.imread('book.jpg', cv2.IMREAD_GRAYSCALE)\n",
    "\n",
    "name = 'Trackbar'\n",
    "cv2.namedWindow(winname=name)\n",
    "\n",
    "cv2.createTrackbar('threshold', name, 127, 255, empty)  # bar이름, 창 이름, 초기값, 최대값, 이벤트 처리\n",
    "\n",
    "while True:\n",
    "    thresh = cv2.getTrackbarPos(trackbarname='threshold', winname=name)  # Trackbar에서 현재 설정된 threshold값을 가져오기\n",
    "    ret, binary = cv2.threshold(src=img, thresh=thresh, maxval=255, type=cv2.THRESH_BINARY)\n",
    "    \n",
    "    if not ret:\n",
    "        break\n",
    "    \n",
    "    cv2.imshow(name, binary)\n",
    "    if cv2.waitKey(1) == ord('q'):\n",
    "        break\n",
    "    \n",
    "cv2.destroyAllWindows()"
   ]
  },
  {
   "attachments": {},
   "cell_type": "markdown",
   "metadata": {},
   "source": [
    "### 그림판에서 제작한 이미지로 확인"
   ]
  },
  {
   "cell_type": "code",
   "execution_count": 4,
   "metadata": {},
   "outputs": [],
   "source": [
    "import cv2\n",
    "\n",
    "def empty(pos):\n",
    "    #print(pos)\n",
    "    pass\n",
    "\n",
    "img = cv2.imread('threshold.png.', cv2.IMREAD_GRAYSCALE)\n",
    "\n",
    "name = 'Trackbar'\n",
    "cv2.namedWindow(winname=name)\n",
    "\n",
    "cv2.createTrackbar('threshold', name, 127, 255, empty)  # bar이름, 창 이름, 초기값, 최대값, 이벤트 처리\n",
    "\n",
    "while True:\n",
    "    thresh = cv2.getTrackbarPos(trackbarname='threshold', winname=name)  # Trackbar에서 현재 설정된 threshold값을 가져오기\n",
    "    ret, binary = cv2.threshold(src=img, thresh=thresh, maxval=255, type=cv2.THRESH_BINARY)\n",
    "    \n",
    "    if not ret:\n",
    "        break\n",
    "    \n",
    "    cv2.imshow(name, binary)\n",
    "    cv2.imshow('img', img)\n",
    "    if cv2.waitKey(1) == ord('q'):\n",
    "        break\n",
    "    \n",
    "cv2.destroyAllWindows()"
   ]
  },
  {
   "cell_type": "code",
   "execution_count": 5,
   "metadata": {},
   "outputs": [],
   "source": [
    "import cv2\n",
    "img = cv2.imread('threshold.png', cv2.IMREAD_GRAYSCALE)\n",
    "\n",
    "# 127보다 크면 255(흰색)으로 바꾼다.\n",
    "ret, binary1 = cv2.threshold(src=img, thresh=0, maxval=255, type=cv2.THRESH_BINARY)  # 진한 회색, 밝은 회색, 흰색\n",
    "ret, binary2 = cv2.threshold(src=img, thresh=127, maxval=255, type=cv2.THRESH_BINARY)  # 밝은 회색, 흰 색\n",
    "ret, binary3 = cv2.threshold(src=img, thresh=195, maxval=255, type=cv2.THRESH_BINARY)  # 흰 색\n",
    "\n",
    "cv2.imshow('binary1', binary1)\n",
    "cv2.imshow('binary2', binary2)\n",
    "cv2.imshow('binary3', binary3)\n",
    "\n",
    "cv2.waitKey(0)\n",
    "cv2.destroyAllWindows()"
   ]
  },
  {
   "attachments": {},
   "cell_type": "markdown",
   "metadata": {},
   "source": [
    "## Adaptive Threshold\n",
    "이미지를 작은 영역으로 나누어서 임계치 적용"
   ]
  },
  {
   "cell_type": "code",
   "execution_count": 6,
   "metadata": {},
   "outputs": [],
   "source": [
    "import cv2\n",
    "\n",
    "def empty(pos):\n",
    "    #print(pos)\n",
    "    pass\n",
    "\n",
    "img = cv2.imread('book.jpg', cv2.IMREAD_GRAYSCALE)\n",
    "\n",
    "name = 'Trackbar'\n",
    "cv2.namedWindow(winname=name)\n",
    "\n",
    "# bar이름, 창 이름, 초기값, 최대값, 이벤트 처리\n",
    "cv2.createTrackbar('block_size', name, 25, 100, empty)  # block_size : 홀수만 가능, 1보다는 큰 값\n",
    "cv2.createTrackbar('c', name, 3, 10, empty)  # 일반적으로 양수의 값을 사용\n",
    "\n",
    "while True:\n",
    "    block_size = cv2.getTrackbarPos(trackbarname='block_size', winname=name)  # Trackbar에서 현재 설정된 threshold값을 가져오기\n",
    "    c = cv2.getTrackbarPos('c', name)\n",
    "    \n",
    "    if block_size <= 1:\n",
    "        block_size = 3\n",
    "        \n",
    "    if block_size % 2 == 0:\n",
    "        block_size += 1\n",
    "    \n",
    "    binary = cv2.adaptiveThreshold(src=img, maxValue=255, \n",
    "                                    adaptiveMethod=cv2.ADAPTIVE_THRESH_MEAN_C, \n",
    "                                    thresholdType=cv2.THRESH_BINARY, \n",
    "                                    blockSize=block_size, \n",
    "                                    C=c)\n",
    "\n",
    "    cv2.imshow(name, binary)\n",
    "    if cv2.waitKey(1) == ord('q'):\n",
    "        break\n",
    "    \n",
    "cv2.destroyAllWindows()"
   ]
  },
  {
   "attachments": {},
   "cell_type": "markdown",
   "metadata": {},
   "source": [
    "## 오츠 알고리즘\n",
    "Bimodal Image에 적합. 임계값(threshold)을 통해 이진화를 할 때, 가장 최적화된 값을 자동으로 찾아준다."
   ]
  },
  {
   "cell_type": "code",
   "execution_count": 8,
   "metadata": {},
   "outputs": [
    {
     "name": "stdout",
     "output_type": "stream",
     "text": [
      "오츠 임계값 :  138.0\n"
     ]
    }
   ],
   "source": [
    "import cv2\n",
    "img = cv2.imread('book.jpg', cv2.IMREAD_GRAYSCALE)\n",
    "\n",
    "ret, binary = cv2.threshold(src=img, thresh=127, maxval=255, type=cv2.THRESH_BINARY)\n",
    "ret, otsu = cv2.threshold(src=img, thresh=-1, maxval=255, type=cv2.THRESH_BINARY | cv2.THRESH_OTSU)\n",
    "print('오츠 임계값 : ', ret)\n",
    "\n",
    "cv2.imshow('img', img)\n",
    "cv2.imshow('binary', binary)\n",
    "cv2.imshow('otsu', otsu)\n",
    "\n",
    "cv2.waitKey(0)\n",
    "cv2.destroyAllWindows()"
   ]
  },
  {
   "cell_type": "code",
   "execution_count": null,
   "metadata": {},
   "outputs": [],
   "source": []
  }
 ],
 "metadata": {
  "kernelspec": {
   "display_name": "base",
   "language": "python",
   "name": "python3"
  },
  "language_info": {
   "codemirror_mode": {
    "name": "ipython",
    "version": 3
   },
   "file_extension": ".py",
   "mimetype": "text/x-python",
   "name": "python",
   "nbconvert_exporter": "python",
   "pygments_lexer": "ipython3",
   "version": "3.9.13"
  },
  "orig_nbformat": 4
 },
 "nbformat": 4,
 "nbformat_minor": 2
}
