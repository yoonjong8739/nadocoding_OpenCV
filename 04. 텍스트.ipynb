{
 "cells": [
  {
   "attachments": {},
   "cell_type": "markdown",
   "metadata": {},
   "source": [
    "# 4. 텍스트"
   ]
  },
  {
   "attachments": {},
   "cell_type": "markdown",
   "metadata": {},
   "source": [
    "## OpenCV에서 사용하는 글꼴 종류\n",
    "1. cv2.FONT_HERSHEY_SIMPLEX : 보통 크기의 산 세리프 글꼴\n",
    "2. cv2.FONT_HERSHEY_PLAIN : 작은 크기의 산 세리프 글꼴\n",
    "3. cv2.FONT_HERSHEY_SCRIPT_SIMPLEX : 필기체 스타일 글꼴\n",
    "4. cv2.FONT_HERSHEY_TRIPLEX : 보통 크기의 세리프 글꼴\n",
    "5. cv2.FONT_ITALIC : 기울임"
   ]
  },
  {
   "cell_type": "code",
   "execution_count": 2,
   "metadata": {},
   "outputs": [],
   "source": [
    "import numpy as np\n",
    "import cv2\n",
    "\n",
    "img = np.zeros((480, 640, 3), dtype=np.uint8)\n",
    "\n",
    "SCALE = 1  # 크기\n",
    "COLOR = (255, 255, 255)  # 흰 색\n",
    "THICKNESS = 1  # 두께\n",
    "\n",
    "# 그릴 위치, 텍스트, 시작 위치, 폰트 종류, 크기, 색깔, 두께\n",
    "cv2.putText(img=img, text=\"Nado Simplex\", org=(20,50), \n",
    "            fontFace=cv2.FONT_HERSHEY_SIMPLEX, fontScale=SCALE, color=COLOR, thickness=THICKNESS)\n",
    "\n",
    "cv2.putText(img=img, text=\"Nado PLAIN\", org=(20,150), \n",
    "            fontFace=cv2.FONT_HERSHEY_PLAIN, fontScale=SCALE, color=COLOR, thickness=THICKNESS)\n",
    "\n",
    "cv2.putText(img=img, text=\"Nado SCRIPT Simplex\", org=(20,250), \n",
    "            fontFace=cv2.FONT_HERSHEY_SCRIPT_SIMPLEX, fontScale=SCALE, color=COLOR, thickness=THICKNESS)\n",
    "\n",
    "cv2.putText(img=img, text=\"Nado TRIPLEX\", org=(20,350), \n",
    "            fontFace=cv2.FONT_HERSHEY_TRIPLEX, fontScale=SCALE, color=COLOR, thickness=THICKNESS)\n",
    "\n",
    "cv2.putText(img=img, text=\"Nado ITALIC\", org=(20,450), \n",
    "            fontFace=cv2.FONT_HERSHEY_TRIPLEX | cv2.FONT_ITALIC, fontScale=SCALE, color=COLOR, thickness=THICKNESS)\n",
    "\n",
    "cv2.imshow('img', img)\n",
    "cv2.waitKey(0)\n",
    "cv2.destroyAllWindows()"
   ]
  },
  {
   "attachments": {},
   "cell_type": "markdown",
   "metadata": {},
   "source": [
    "## 한글"
   ]
  },
  {
   "cell_type": "code",
   "execution_count": 3,
   "metadata": {},
   "outputs": [],
   "source": [
    "import numpy as np\n",
    "import cv2\n",
    "\n",
    "img = np.zeros((480, 640, 3), dtype=np.uint8)\n",
    "\n",
    "SCALE = 1  # 크기\n",
    "COLOR = (255, 255, 255)  # 흰 색\n",
    "THICKNESS = 1  # 두께\n",
    "\n",
    "# 그릴 위치, 텍스트, 시작 위치, 폰트 종류, 크기, 색깔, 두께\n",
    "cv2.putText(img=img, text=\"나도코딩\", org=(20,50),  # ??? 발생\n",
    "            fontFace=cv2.FONT_HERSHEY_SIMPLEX, fontScale=SCALE, color=COLOR, thickness=THICKNESS)\n",
    "\n",
    "cv2.imshow('img', img)\n",
    "cv2.waitKey(0)\n",
    "cv2.destroyAllWindows()"
   ]
  },
  {
   "attachments": {},
   "cell_type": "markdown",
   "metadata": {},
   "source": [
    "## 한글 우회 방법"
   ]
  },
  {
   "cell_type": "code",
   "execution_count": 4,
   "metadata": {},
   "outputs": [],
   "source": [
    "import numpy as np\n",
    "import cv2\n",
    "from PIL import ImageFont, ImageDraw, Image\n",
    "\n",
    "def myPutText(src, text, pos, font_size, font_color):\n",
    "    img_pil = Image.fromarray(src)\n",
    "    draw = ImageDraw.Draw(img_pil)\n",
    "    font = ImageFont.truetype('fonts/gulim.ttc', font_size)\n",
    "    draw.text(pos, text, font=font, fill=font_color)\n",
    "    return np.array(img_pil)\n",
    "\n",
    "img = np.zeros((480, 640, 3), dtype=np.uint8)\n",
    "\n",
    "FONT_SIZE = 30\n",
    "COLOR = (255, 255, 255)  # 흰 색\n",
    "\n",
    "img = myPutText(img, \"나도코딩\", (20,50), FONT_SIZE, COLOR)\n",
    "\n",
    "cv2.imshow('img', img)\n",
    "cv2.waitKey(0)\n",
    "cv2.destroyAllWindows()"
   ]
  }
 ],
 "metadata": {
  "kernelspec": {
   "display_name": "base",
   "language": "python",
   "name": "python3"
  },
  "language_info": {
   "codemirror_mode": {
    "name": "ipython",
    "version": 3
   },
   "file_extension": ".py",
   "mimetype": "text/x-python",
   "name": "python",
   "nbconvert_exporter": "python",
   "pygments_lexer": "ipython3",
   "version": "3.9.13"
  },
  "orig_nbformat": 4
 },
 "nbformat": 4,
 "nbformat_minor": 2
}
