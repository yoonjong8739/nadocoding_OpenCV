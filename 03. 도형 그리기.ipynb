{
 "cells": [
  {
   "attachments": {},
   "cell_type": "markdown",
   "metadata": {},
   "source": [
    "# 3. 도형 그리기"
   ]
  },
  {
   "attachments": {},
   "cell_type": "markdown",
   "metadata": {},
   "source": [
    "## 빈 스케치북 만들기"
   ]
  },
  {
   "cell_type": "code",
   "execution_count": 4,
   "metadata": {},
   "outputs": [],
   "source": [
    "import cv2\n",
    "import numpy as np\n",
    "\n",
    "# height 480 X width 640, 3 channel (RGB) 에 해당하는 스케치북 만들기\n",
    "img = np.zeros((480, 640, 3), dtype=np.uint8)  # 640행 3열 480층의 3차원 array가 완성된다.\n",
    "#img[:] = (255, 255, 255)  # 전체 공간을 흰 색으로 채우기\n",
    "#print(img)\n",
    "cv2.imshow('img', img)\n",
    "cv2.waitKey(0)\n",
    "cv2.destroyAllWindows()"
   ]
  },
  {
   "attachments": {},
   "cell_type": "markdown",
   "metadata": {},
   "source": [
    "## 일부 영역 색칠"
   ]
  },
  {
   "cell_type": "code",
   "execution_count": 6,
   "metadata": {},
   "outputs": [],
   "source": [
    "import cv2\n",
    "import numpy as np\n",
    "\n",
    "img = np.zeros((480, 640, 3), dtype=np.uint8)  # 640행 3열 480층의 3차원 array가 완성된다.\n",
    "img[100:200, 200:300] = (255, 255, 255)\n",
    "\n",
    "cv2.imshow('img', img)\n",
    "cv2.waitKey(0)\n",
    "cv2.destroyAllWindows()"
   ]
  },
  {
   "attachments": {},
   "cell_type": "markdown",
   "metadata": {},
   "source": [
    "## 직선\n",
    "직선의 종류 (line type)\n",
    "\n",
    "1. cv2.LINE_4 : 상하좌우 4 방향으로 연결된 선\n",
    "2. cv2.LINE_8 : 대각선을 포함한 8 방향으로 연결된 선 (기본값)\n",
    "3. cv2.LINE_AA : 부드러운 선 (anti-aliasing)"
   ]
  },
  {
   "cell_type": "code",
   "execution_count": 9,
   "metadata": {},
   "outputs": [],
   "source": [
    "import cv2\n",
    "import numpy as np\n",
    "\n",
    "img = np.zeros((480, 640, 3), dtype=np.uint8)\n",
    "\n",
    "COLOR = (0, 255, 255)  # Yellow\n",
    "THICKNESS = 3  # 두께\n",
    "\n",
    "# 그릴 위치, 시작점, 끝점, 색, 두께, 선 종류\n",
    "cv2.line(img, (50,100), (400,50), color=COLOR, thickness=THICKNESS, lineType=cv2.LINE_8)\n",
    "cv2.line(img, (50,200), (400,150), color=COLOR, thickness=THICKNESS, lineType=cv2.LINE_4)\n",
    "cv2.line(img, (50,300), (400,250), color=COLOR, thickness=THICKNESS, lineType=cv2.LINE_AA)\n",
    "\n",
    "cv2.imshow('img', img)\n",
    "cv2.waitKey(0)\n",
    "cv2.destroyAllWindows()"
   ]
  },
  {
   "attachments": {},
   "cell_type": "markdown",
   "metadata": {},
   "source": [
    "## 원"
   ]
  },
  {
   "cell_type": "code",
   "execution_count": 12,
   "metadata": {},
   "outputs": [],
   "source": [
    "import cv2\n",
    "import numpy as np\n",
    "\n",
    "img = np.zeros((480, 640, 3), dtype=np.uint8)\n",
    "\n",
    "COLOR = (255, 255, 0)  # 옥색\n",
    "RADIUS = 50  # 반지름\n",
    "THICKNESS = 10  # 두께\n",
    "\n",
    "# 그릴 위치, 원의 중심, 반지름, 색, 두께, 선 종류\n",
    "cv2.circle(img=img, center=(200,100), radius=RADIUS, color=COLOR, thickness=THICKNESS, lineType=cv2.LINE_AA)  # 속이 빈 원\n",
    "cv2.circle(img=img, center=(400,100), radius=RADIUS, color=COLOR, thickness=cv2.FILLED, lineType=cv2.LINE_AA)  # 속이 꽉 찬 원1\n",
    "cv2.circle(img=img, center=(400,400), radius=RADIUS, color=COLOR, thickness=-1, lineType=cv2.LINE_AA)  # 속이 꽉 찬 원2\n",
    "\n",
    "cv2.imshow('img', img)\n",
    "cv2.waitKey(0)\n",
    "cv2.destroyAllWindows()"
   ]
  },
  {
   "attachments": {},
   "cell_type": "markdown",
   "metadata": {},
   "source": [
    "## 사각형"
   ]
  },
  {
   "cell_type": "code",
   "execution_count": 22,
   "metadata": {},
   "outputs": [],
   "source": [
    "import cv2\n",
    "import numpy as np\n",
    "\n",
    "img = np.zeros((480, 640, 3), dtype=np.uint8)\n",
    "\n",
    "COLOR = (0, 255, 0)  # 초록색\n",
    "THICKNESS = 3  # 두께\n",
    "\n",
    "# 그릴 위치, 왼쪽 위 좌표, 오른쪽 아래 좌표, 색, 두께, 선 종류\n",
    "cv2.rectangle(img=img, pt1=(100,100), pt2=(200,200), color=COLOR, thickness=THICKNESS, lineType=cv2.LINE_4)  # 속이 빈 사각형\n",
    "cv2.rectangle(img=img, pt1=(200,200), pt2=(300,300), color=COLOR, thickness=cv2.FILLED, lineType=cv2.LINE_4)  # 속이 꽉 찬 사각형1\n",
    "cv2.rectangle(img=img, pt1=(400,400), pt2=(450,450), color=COLOR, thickness=-1, lineType=cv2.LINE_4)  # 속이 꽉 찬 사각형2\n",
    "\n",
    "cv2.imshow('img', img)\n",
    "cv2.waitKey(0)\n",
    "cv2.destroyAllWindows()"
   ]
  },
  {
   "attachments": {},
   "cell_type": "markdown",
   "metadata": {},
   "source": [
    "## 다각형"
   ]
  },
  {
   "cell_type": "code",
   "execution_count": 29,
   "metadata": {},
   "outputs": [],
   "source": [
    "import cv2\n",
    "import numpy as np\n",
    "\n",
    "img = np.zeros((480, 640, 3), dtype=np.uint8)\n",
    "\n",
    "COLOR = (0, 0, 255)  # 빨간색\n",
    "THICKNESS = 3  # 두께\n",
    "\n",
    "# 속이 빈 다각형\n",
    "pts1 = np.array([[100,100], [200,100], [100,200]])\n",
    "pts2 = np.array([[300,300], [400,300], [300,400]])\n",
    "pts3 = np.array([[200,100], [300,100], [300,200]])\n",
    "\n",
    "# 그릴 위치, [그릴 좌표들], 닫힘 여부, 색, 두께, 선 종류\n",
    "#cv2.polylines(img=img, pts=[pts1], isClosed=True, color=COLOR, thickness=THICKNESS, lineType=cv2.LINE_AA)\n",
    "#cv2.polylines(img=img, pts=[pts2], isClosed=False, color=COLOR, thickness=THICKNESS, lineType=cv2.LINE_AA)\n",
    "#cv2.polylines(img=img, pts=[pts3], isClosed=True, color=COLOR, thickness=THICKNESS, lineType=cv2.LINE_AA)\n",
    "cv2.polylines(img=img, pts=[pts1, pts2, pts3], isClosed=True, color=COLOR, thickness=THICKNESS, lineType=cv2.LINE_AA)\n",
    "\n",
    "# 꽉 찬 다각형\n",
    "pts4 = np.array([ [[100,300], [200,300], [100,400]], [[200,300], [300,300], [300,400]]])\n",
    "\n",
    "# 그릴 위치, 그릴 좌표들, 색, 선 종류\n",
    "cv2.fillPoly(img=img, pts=pts4, color=COLOR, lineType=cv2.LINE_AA)\n",
    "\n",
    "cv2.imshow('img', img)\n",
    "cv2.waitKey(0)\n",
    "cv2.destroyAllWindows()"
   ]
  },
  {
   "cell_type": "code",
   "execution_count": null,
   "metadata": {},
   "outputs": [],
   "source": []
  }
 ],
 "metadata": {
  "kernelspec": {
   "display_name": "base",
   "language": "python",
   "name": "python3"
  },
  "language_info": {
   "codemirror_mode": {
    "name": "ipython",
    "version": 3
   },
   "file_extension": ".py",
   "mimetype": "text/x-python",
   "name": "python",
   "nbconvert_exporter": "python",
   "pygments_lexer": "ipython3",
   "version": "3.9.13"
  },
  "orig_nbformat": 4
 },
 "nbformat": 4,
 "nbformat_minor": 2
}
