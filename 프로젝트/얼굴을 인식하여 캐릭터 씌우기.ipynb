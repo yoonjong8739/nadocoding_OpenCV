{
 "cells": [
  {
   "attachments": {},
   "cell_type": "markdown",
   "metadata": {},
   "source": [
    "# 프로젝트 : 얼굴을 인식하여 캐릭터 씌우기\n",
    "## Face Detection vs Face Recognition\n",
    "패키지 설치\n",
    "> pip install mediapipe"
   ]
  },
  {
   "cell_type": "code",
   "execution_count": 25,
   "metadata": {},
   "outputs": [],
   "source": [
    "import cv2\n",
    "import mediapipe as mp\n",
    "\n",
    "def overlay(image, x, y, w, h, overlay_image):  # 대상 이미지(3채널), x, y좌표, width, height, 덮어씌울 이미지(4채널)\n",
    "    alpha = overlay_image[:, :, 3]  # 4채널 BGRA 중에서 A(alpha, 투명도) 부분만 가져오기 \n",
    "    mask_image = alpha / 255  # 정규화(0~1) 1:불투명, 0:투명\n",
    "    \n",
    "    for c in range(0,3):  # channel BGR\n",
    "        image[y-h:y+h, x-w:x+w, c] = (overlay_image[:, :, c] * mask_image) + (image[y-h:y+h, x-w:x+w, c] * (1 - mask_image))\n",
    "\n",
    "# 얼굴을 찾고, 찾은 얼굴에 표시를 해주기 위한 변수 정의\n",
    "mp_face_detection = mp.solutions.face_detection  # 얼굴 검출을 위한 face_dectection 모듈을 사용\n",
    "mp_drawing = mp.solutions.drawing_utils  # 얼굴의 특징을 그리기 위한 drawing_utils 모듈을 사용\n",
    "\n",
    "# 동영상 파일 열기\n",
    "cap = cv2.VideoCapture('face_video.mp4')\n",
    "\n",
    "# 이미지 불러오기\n",
    "image_right_eye = cv2.imread('right_eye.png', cv2.IMREAD_UNCHANGED)  # (100, 100, 4)\n",
    "image_left_eye = cv2.imread('left_eye.png', cv2.IMREAD_UNCHANGED)  # (100, 100, 4)\n",
    "image_nose = cv2.imread('nose.png', cv2.IMREAD_UNCHANGED)  # (100, 300, 4)\n",
    "\n",
    "with mp_face_detection.FaceDetection(\n",
    "    model_selection = 0,  # 0:카메라로부터 2미터 이하의 근거리, 1:5미터 이내의 거리\n",
    "    min_detection_confidence=0.7  # 얼굴로 인식하는 최소 신뢰도 정의(threshold 개념)\n",
    ") as face_detection:\n",
    "\n",
    "    while cap.isOpened():  # 동영상 파일이 올바르게 열렸는가?\n",
    "        success, image = cap.read()  # success : 성공여부, frame : 받아온 이미지 (프레임)\n",
    "        if not success:\n",
    "            break\n",
    "        \n",
    "        # To improve performance, optionally mark the image as not writeable to pass by reference.\n",
    "        image.flags.writeable = False\n",
    "        image = cv2.cvtColor(image, cv2.COLOR_BGR2RGB)\n",
    "        results = face_detection.process(image)\n",
    "        \n",
    "        # Draw the face detection annotations on the image.\n",
    "        image.flags.writeable = True\n",
    "        image = cv2.cvtColor(image, cv2.COLOR_RGB2BGR)\n",
    "        \n",
    "        if results.detections:\n",
    "            # 6개 특징 : 눈(우/좌), 코 끝부분, 입 중심, 귀(우/좌)\n",
    "            for detection in results.detections:\n",
    "                #mp_drawing.draw_detection(image, detection)\n",
    "                #print(detection)\n",
    "                \n",
    "                # 특정 위치 가져오기\n",
    "                keypoints = detection.location_data.relative_keypoints\n",
    "                right_eye = keypoints[0]  # 오른쪽 눈 x,y좌표\n",
    "                left_eye = keypoints[1]   # 왼쪽 눈 x,y좌표\n",
    "                nose_tip = keypoints[2]   # 코 끝부분\n",
    "                \n",
    "                h, w, _ = image.shape  # height, width, channel : 이미지로부터 세로, 가로 크기 가져옴.\n",
    "                right_eye = (int(right_eye.x * w), int(right_eye.y * h))  # 이미지 내에서 실제 좌표 (x, y)\n",
    "                left_eye = (int(left_eye.x * w), int(left_eye.y * h))\n",
    "                nose_tip = (int(nose_tip.x * w), int(nose_tip.y * h))\n",
    "                \n",
    "                # 양 눈에 동그라미 그리기\n",
    "                #cv2.circle(image, center=right_eye, radius=50, color=(255,0,0), thickness=10, lineType=cv2.LINE_AA)  # 오른쪽 눈 파란색\n",
    "                #cv2.circle(image, center=left_eye, radius=50, color=(0,255,0), thickness=10, lineType=cv2.LINE_AA)  # 왼쪽 눈 초록색\n",
    "                #cv2.circle(image, center=nose_tip, radius=75, color=(0,255,255), thickness=10, lineType=cv2.LINE_AA)  # 코 노란색\n",
    "                \n",
    "                # 각 특징에다가 이미지 그리기\n",
    "                #image[right_eye[1]-110:right_eye[1]+110, right_eye[0]-110:right_eye[0]+110] = image_right_eye\n",
    "                #image[left_eye[1]-129:left_eye[1]+129, left_eye[0]-129:left_eye[0]+129] = image_left_eye\n",
    "                #image[nose_tip[1]-50:nose_tip[1]+50, nose_tip[0]-50:nose_tip[0]+50] = image_nose\n",
    "                \n",
    "                # image, x, y, w, h, overlay_image\n",
    "                overlay(image, *right_eye, 50, 50, image_right_eye)\n",
    "                overlay(image, *left_eye, 50, 50, image_left_eye)\n",
    "                overlay(image, *nose_tip, 150, 50, image_nose)\n",
    "                \n",
    "        # Flip the image horizontally for a self-view display.\n",
    "        cv2.imshow(\"MediaPipe Face Detection\", cv2.resize(image, None, fx=0.5, fy=0.5))\n",
    "        if cv2.waitKey(1) == ord('q'):\n",
    "            break\n",
    "\n",
    "cap.release()\n",
    "cv2.destroyAllWindows()"
   ]
  },
  {
   "cell_type": "code",
   "execution_count": 26,
   "metadata": {},
   "outputs": [
    {
     "data": {
      "text/plain": [
       "(100, 100, 4)"
      ]
     },
     "execution_count": 26,
     "metadata": {},
     "output_type": "execute_result"
    }
   ],
   "source": [
    "image_right_eye = cv2.imread('right_eye.png', cv2.IMREAD_UNCHANGED)  # 투명도 포함(4 channel)\n",
    "image_right_eye.shape"
   ]
  },
  {
   "cell_type": "code",
   "execution_count": 28,
   "metadata": {},
   "outputs": [
    {
     "data": {
      "text/plain": [
       "(100, 100, 4)"
      ]
     },
     "execution_count": 28,
     "metadata": {},
     "output_type": "execute_result"
    }
   ],
   "source": [
    "image_left_eye = cv2.imread('left_eye.png', cv2.IMREAD_UNCHANGED)\n",
    "image_left_eye.shape"
   ]
  },
  {
   "cell_type": "code",
   "execution_count": 29,
   "metadata": {},
   "outputs": [
    {
     "data": {
      "text/plain": [
       "(100, 300, 4)"
      ]
     },
     "execution_count": 29,
     "metadata": {},
     "output_type": "execute_result"
    }
   ],
   "source": [
    "image_nose = cv2.imread('nose.png', cv2.IMREAD_UNCHANGED)\n",
    "image_nose.shape"
   ]
  },
  {
   "cell_type": "code",
   "execution_count": null,
   "metadata": {},
   "outputs": [],
   "source": []
  }
 ],
 "metadata": {
  "kernelspec": {
   "display_name": "base",
   "language": "python",
   "name": "python3"
  },
  "language_info": {
   "codemirror_mode": {
    "name": "ipython",
    "version": 3
   },
   "file_extension": ".py",
   "mimetype": "text/x-python",
   "name": "python",
   "nbconvert_exporter": "python",
   "pygments_lexer": "ipython3",
   "version": "3.9.13"
  },
  "orig_nbformat": 4
 },
 "nbformat": 4,
 "nbformat_minor": 2
}
