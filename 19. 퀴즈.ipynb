{
 "cells": [
  {
   "attachments": {},
   "cell_type": "markdown",
   "metadata": {},
   "source": [
    "# 퀴즈"
   ]
  },
  {
   "attachments": {},
   "cell_type": "markdown",
   "metadata": {},
   "source": [
    "## OpenCV를 이용하여 가로로 촬영된 동영상을 세로로 회전하는 프로그램을 작성하시오."
   ]
  },
  {
   "attachments": {},
   "cell_type": "markdown",
   "metadata": {},
   "source": [
    "### 조건\n",
    "1. 회전 : 시계 반대방향으로 90도\n",
    "2. 재생속도(FPS) : 원본 X 4배\n",
    "3. 출력 파일명 : city_output.avi (코덱 : DIVX)\n",
    "\n",
    "- 원본 파일명 : city.mp4"
   ]
  },
  {
   "cell_type": "code",
   "execution_count": 9,
   "metadata": {},
   "outputs": [],
   "source": [
    "import cv2\n",
    "\n",
    "city_avi = cv2.VideoCapture('city.mp4')  # 해당 경로의 동영상 파일 가져오기\n",
    "fourcc = cv2.VideoWriter_fourcc(*'DIVX')  # 코덱 정의\n",
    "\n",
    "width = round(city_avi.get(cv2.CAP_PROP_FRAME_WIDTH))  # 프레임 높이\n",
    "height = round(city_avi.get(cv2.CAP_PROP_FRAME_HEIGHT))  # 프레임 너비\n",
    "fps = city_avi.get(cv2.CAP_PROP_FPS)  # 동영상 속도, \" * 2 \"를 하면 영상 속도가 2배 빨라진 영상이 저장된다.\n",
    "\n",
    "# 동영상 회전\n",
    "out = cv2.VideoWriter('output.avi', fourcc, fps*4, (height, width))  # 저장 파일명, 코덱, FPS, 크기(height, width)\n",
    "\n",
    "while city_avi.isOpened():\n",
    "    ret, frame = city_avi.read()\n",
    "    if not ret:\n",
    "        break\n",
    "    \n",
    "    ratoate_frame = cv2.rotate(frame, rotateCode=cv2.ROTATE_90_COUNTERCLOCKWISE)  # 시계 반대 방향으로 90도\n",
    "    out.write(ratoate_frame)  # 영상 데이터만 저장 (소리X)\n",
    "    cv2.imshow('video', frame)\n",
    "    \n",
    "    if cv2.waitKey(1) == ord('q'):\n",
    "        break\n",
    "\n",
    "out.release()  # 자원 해제\n",
    "city_avi.release()  # 자원 해제\n",
    "\n",
    "cv2.destroyAllWindows()  # 모든 창 닫기"
   ]
  },
  {
   "cell_type": "code",
   "execution_count": null,
   "metadata": {},
   "outputs": [],
   "source": []
  }
 ],
 "metadata": {
  "kernelspec": {
   "display_name": "base",
   "language": "python",
   "name": "python3"
  },
  "language_info": {
   "codemirror_mode": {
    "name": "ipython",
    "version": 3
   },
   "file_extension": ".py",
   "mimetype": "text/x-python",
   "name": "python",
   "nbconvert_exporter": "python",
   "pygments_lexer": "ipython3",
   "version": "3.9.13"
  },
  "orig_nbformat": 4
 },
 "nbformat": 4,
 "nbformat_minor": 2
}
