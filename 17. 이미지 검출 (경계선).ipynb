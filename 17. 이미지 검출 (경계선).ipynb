{
 "cells": [
  {
   "attachments": {},
   "cell_type": "markdown",
   "metadata": {},
   "source": [
    "# 17. 이미지 검출 (경계선)"
   ]
  },
  {
   "attachments": {},
   "cell_type": "markdown",
   "metadata": {},
   "source": [
    "## Canney Edge Detection"
   ]
  },
  {
   "cell_type": "code",
   "execution_count": 5,
   "metadata": {},
   "outputs": [],
   "source": [
    "import cv2\n",
    "\n",
    "def empty(pos):\n",
    "    #print(pos)\n",
    "    pass\n",
    "\n",
    "img = cv2.imread('snowman.png')\n",
    "\n",
    "name = 'Trackbar'\n",
    "cv2.namedWindow(winname=name)\n",
    "cv2.createTrackbar('threshold1', name, 0, 255, empty)  # 하위 임계값\n",
    "cv2.createTrackbar('threshold2', name, 0, 255, empty)  # 상위 임계값\n",
    "\n",
    "while True:\n",
    "    threshold1 = cv2.getTrackbarPos('threshold1', winname=name)\n",
    "    threshold2 = cv2.getTrackbarPos('threshold2', winname=name)\n",
    "    \n",
    "    # 대상 이미지, 하위 임계값, 상위 임계값\n",
    "    canny = cv2.Canny(image=img, threshold1=threshold1, threshold2=threshold2)\n",
    "\n",
    "    cv2.imshow('img', img)\n",
    "    cv2.imshow(name, canny)\n",
    "    \n",
    "    if cv2.waitKey(1) == ord('q'):\n",
    "        break\n",
    "\n",
    "cv2.destroyAllWindows()"
   ]
  },
  {
   "cell_type": "code",
   "execution_count": null,
   "metadata": {},
   "outputs": [],
   "source": []
  }
 ],
 "metadata": {
  "kernelspec": {
   "display_name": "base",
   "language": "python",
   "name": "python3"
  },
  "language_info": {
   "codemirror_mode": {
    "name": "ipython",
    "version": 3
   },
   "file_extension": ".py",
   "mimetype": "text/x-python",
   "name": "python",
   "nbconvert_exporter": "python",
   "pygments_lexer": "ipython3",
   "version": "3.9.13"
  },
  "orig_nbformat": 4
 },
 "nbformat": 4,
 "nbformat_minor": 2
}
